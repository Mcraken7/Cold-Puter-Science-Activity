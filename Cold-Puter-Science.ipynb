{
 "cells": [
  {
   "cell_type": "markdown",
   "id": "c4b060dd",
   "metadata": {},
   "source": [
    "## Cold-Puter-Science"
   ]
  },
  {
   "cell_type": "code",
   "execution_count": 22,
   "id": "56c5405e",
   "metadata": {},
   "outputs": [
    {
     "name": "stdout",
     "output_type": "stream",
     "text": [
      "Enter a number\n",
      "3\n",
      "Enter 3 Temperature numbers\n",
      "-2 1 3\n",
      "---------------------------------------------------\n",
      "There are 1 Cold Temperatures\n",
      "The values are ['-2', '1', '3']\n"
     ]
    }
   ],
   "source": [
    "import sys\n",
    "print(\"Enter a number\")\n",
    "\n",
    "result = 0\n",
    "\n",
    "numTemps = int(input())\n",
    "print(\"Enter \" + str(numTemps) + \" Temperature numbers\")\n",
    "\n",
    "numbers = input().split()\n",
    "\n",
    "for number in numbers:\n",
    "\n",
    "    if int(number) < 0:\n",
    "        result += 1\n",
    "print(\"---------------------------------------------------\")\n",
    "print (\"There are \" + str(result) + \" Cold Temperatures\")\n",
    "print (\"The values are \" + str(numbers))\n"
   ]
  },
  {
   "cell_type": "code",
   "execution_count": null,
   "id": "0efd56c7",
   "metadata": {},
   "outputs": [],
   "source": []
  },
  {
   "cell_type": "code",
   "execution_count": null,
   "id": "b3747195",
   "metadata": {},
   "outputs": [],
   "source": []
  }
 ],
 "metadata": {
  "kernelspec": {
   "display_name": "Python 3 (ipykernel)",
   "language": "python",
   "name": "python3"
  },
  "language_info": {
   "codemirror_mode": {
    "name": "ipython",
    "version": 3
   },
   "file_extension": ".py",
   "mimetype": "text/x-python",
   "name": "python",
   "nbconvert_exporter": "python",
   "pygments_lexer": "ipython3",
   "version": "3.9.5"
  }
 },
 "nbformat": 4,
 "nbformat_minor": 5
}
